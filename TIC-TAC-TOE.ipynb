{
 "cells": [
  {
   "cell_type": "markdown",
   "metadata": {},
   "source": [
    "TIC - TAC - TOE "
   ]
  },
  {
   "cell_type": "code",
   "execution_count": null,
   "metadata": {},
   "outputs": [
    {
     "name": "stderr",
     "output_type": "stream",
     "text": [
      "Using TensorFlow backend.\n",
      "/Library/Frameworks/Python.framework/Versions/2.7/lib/python2.7/site-packages/keras/engine/topology.py:1252: UserWarning: Update your `Dense` call to the Keras 2 API: `Dense(batch_input_shape=[None, 9], kernel_constraint=None, name=\"dense_1\", bias_regularizer=None, bias_constraint=None, activation=\"relu\", trainable=True, kernel_initializer=\"glorot_uniform\", kernel_regularizer=None, input_dtype=\"float32\", units=500, input_dim=None, use_bias=True, activity_regularizer=None)`\n",
      "  return cls(**config)\n",
      "/Library/Frameworks/Python.framework/Versions/2.7/lib/python2.7/site-packages/keras/engine/topology.py:1252: UserWarning: Update your `Dense` call to the Keras 2 API: `Dense(name=\"dense_2\", bias_regularizer=None, bias_constraint=None, activation=\"relu\", trainable=True, kernel_constraint=None, kernel_regularizer=None, input_dim=None, units=500, kernel_initializer=\"glorot_uniform\", use_bias=True, activity_regularizer=None)`\n",
      "  return cls(**config)\n",
      "/Library/Frameworks/Python.framework/Versions/2.7/lib/python2.7/site-packages/keras/engine/topology.py:1252: UserWarning: Update your `Dense` call to the Keras 2 API: `Dense(name=\"dense_3\", bias_regularizer=None, bias_constraint=None, activation=\"relu\", trainable=True, kernel_constraint=None, kernel_regularizer=None, input_dim=None, units=500, kernel_initializer=\"glorot_uniform\", use_bias=True, activity_regularizer=None)`\n",
      "  return cls(**config)\n",
      "/Library/Frameworks/Python.framework/Versions/2.7/lib/python2.7/site-packages/keras/engine/topology.py:1252: UserWarning: Update your `Dense` call to the Keras 2 API: `Dense(name=\"dense_4\", bias_regularizer=None, bias_constraint=None, activation=\"softmax\", trainable=True, kernel_constraint=None, kernel_regularizer=None, input_dim=None, units=9, kernel_initializer=\"glorot_uniform\", use_bias=True, activity_regularizer=None)`\n",
      "  return cls(**config)\n",
      "/Library/Frameworks/Python.framework/Versions/2.7/lib/python2.7/site-packages/keras/engine/topology.py:1252: UserWarning: Update your `Dense` call to the Keras 2 API: `Dense(batch_input_shape=[None, 9], kernel_constraint=None, name=\"dense_5\", bias_regularizer=None, bias_constraint=None, activation=\"relu\", trainable=True, kernel_initializer=\"glorot_uniform\", kernel_regularizer=None, input_dtype=\"float32\", units=500, input_dim=None, use_bias=True, activity_regularizer=None)`\n",
      "  return cls(**config)\n",
      "/Library/Frameworks/Python.framework/Versions/2.7/lib/python2.7/site-packages/keras/engine/topology.py:1252: UserWarning: Update your `Dense` call to the Keras 2 API: `Dense(name=\"dense_6\", bias_regularizer=None, bias_constraint=None, activation=\"relu\", trainable=True, kernel_constraint=None, kernel_regularizer=None, input_dim=None, units=500, kernel_initializer=\"glorot_uniform\", use_bias=True, activity_regularizer=None)`\n",
      "  return cls(**config)\n",
      "/Library/Frameworks/Python.framework/Versions/2.7/lib/python2.7/site-packages/keras/engine/topology.py:1252: UserWarning: Update your `Dense` call to the Keras 2 API: `Dense(name=\"dense_7\", bias_regularizer=None, bias_constraint=None, activation=\"relu\", trainable=True, kernel_constraint=None, kernel_regularizer=None, input_dim=None, units=500, kernel_initializer=\"glorot_uniform\", use_bias=True, activity_regularizer=None)`\n",
      "  return cls(**config)\n",
      "/Library/Frameworks/Python.framework/Versions/2.7/lib/python2.7/site-packages/keras/engine/topology.py:1252: UserWarning: Update your `Dense` call to the Keras 2 API: `Dense(name=\"dense_8\", bias_regularizer=None, bias_constraint=None, activation=\"softmax\", trainable=True, kernel_constraint=None, kernel_regularizer=None, input_dim=None, units=9, kernel_initializer=\"glorot_uniform\", use_bias=True, activity_regularizer=None)`\n",
      "  return cls(**config)\n"
     ]
    },
    {
     "name": "stdout",
     "output_type": "stream",
     "text": [
      "Moves:\n",
      "-------------\n",
      "| 1 | 2 | 3 |\n",
      "| 4 | 5 | 6 |\n",
      "| 7 | 8 | 9 |\n",
      "-------------\n",
      "\n",
      "Your Move [O] : 8\n",
      "AI plays [X] : 5\n",
      "\n",
      "-------------\n",
      "|   |   |   | \n",
      "|   | X |   | \n",
      "|   | O |   | \n",
      "-------------\n",
      "\n",
      "Your Move [O] : 9\n",
      "AI plays [X] : 7\n",
      "\n",
      "-------------\n",
      "|   |   |   | \n",
      "|   | X |   | \n",
      "| X | O | O | \n",
      "-------------\n",
      "\n",
      "Your Move [O] : 3\n",
      "AI plays [X] : 6\n",
      "\n",
      "-------------\n",
      "|   |   | O | \n",
      "|   | X | X | \n",
      "| X | O | O | \n",
      "-------------\n",
      "\n",
      "Your Move [O] : 4\n",
      "AI plays [X] : 2\n",
      "\n",
      "-------------\n",
      "|   | X | O | \n",
      "| O | X | X | \n",
      "| X | O | O | \n",
      "-------------\n",
      "\n",
      "Your Move [O] : 1\n",
      "\n",
      "Game Over . . .\n",
      "It's a draw!\n",
      "\n",
      "-------------\n",
      "| O | X | O | \n",
      "| O | X | X | \n",
      "| X | O | O | \n",
      "-------------\n",
      "\n",
      "Your Move [O] : 9\n",
      "AI plays [X] : 5\n",
      "\n",
      "-------------\n",
      "|   |   |   | \n",
      "|   | X |   | \n",
      "|   |   | O | \n",
      "-------------\n",
      "\n",
      "Your Move [O] : 9\n",
      "9\n",
      "9\n",
      "9\n",
      "3\n",
      "AI plays [X] : 6\n",
      "\n",
      "-------------\n",
      "|   |   | O | \n",
      "|   | X | X | \n",
      "|   |   | O | \n",
      "-------------\n",
      "\n",
      "Your Move [O] : "
     ]
    }
   ],
   "source": [
    "import main as TTT\n",
    "TTT.run()"
   ]
  }
 ],
 "metadata": {
  "kernelspec": {
   "display_name": "Python 2",
   "language": "python",
   "name": "python2"
  },
  "language_info": {
   "codemirror_mode": {
    "name": "ipython",
    "version": 2
   },
   "file_extension": ".py",
   "mimetype": "text/x-python",
   "name": "python",
   "nbconvert_exporter": "python",
   "pygments_lexer": "ipython2",
   "version": "2.7.14"
  }
 },
 "nbformat": 4,
 "nbformat_minor": 2
}
